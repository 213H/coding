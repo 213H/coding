{
 "metadata": {
  "language_info": {
   "codemirror_mode": {
    "name": "ipython",
    "version": 3
   },
   "file_extension": ".py",
   "mimetype": "text/x-python",
   "name": "python",
   "nbconvert_exporter": "python",
   "pygments_lexer": "ipython3",
   "version": "3.9.1-final"
  },
  "orig_nbformat": 2,
  "kernelspec": {
   "name": "python3",
   "display_name": "Python 3.9.1 64-bit",
   "metadata": {
    "interpreter": {
     "hash": "650d36fed287ca23e64dc05c2a6ed9020f2fb825851f8a91d60c77ca06b7f9fc"
    }
   }
  }
 },
 "nbformat": 4,
 "nbformat_minor": 2,
 "cells": [
  {
   "cell_type": "code",
   "execution_count": 1,
   "metadata": {},
   "outputs": [
    {
     "output_type": "stream",
     "name": "stdout",
     "text": [
      "Hello, Python World!\n\n"
     ]
    }
   ],
   "source": [
    "print(\"Hello, Python World!\\n\")"
   ]
  },
  {
   "source": [
    "## data type\n",
    "number = 3\n",
    "\n",
    "string = \"455\"\n",
    "\n",
    "list_ = ['a', 'c', 'e', \"ss\", 455]\n",
    "\n",
    "tuple_ = (123, 3.14, \"sss\")\n",
    "\n",
    "set_ = {'google', 'facebook', 'twitter', 'instagram'}\n",
    "\n",
    "dict_ = {'google' : 1, 'facebook' : 2}"
   ],
   "cell_type": "markdown",
   "metadata": {}
  }
 ]
}